{
 "cells": [
  {
   "cell_type": "code",
   "execution_count": null,
   "metadata": {},
   "outputs": [],
   "source": [
    "# Importar las librerías necesarias\n",
    "import supervision as sv  # Librería para el seguimiento de objetos\n",
    "from ultralytics import YOLO  # Librería para la detección de objetos con YOLO\n",
    "import numpy as np  # Librería para operaciones matemáticas y manejo de arrays\n",
    "\n",
    "# Definir rutas de los videos de entrada y salida, y el nombre del modelo\n",
    "SOURCE_VIDEO_PATH = \"CV/unidad_1/bicis_autos_600.mp4\"  # Ruta al video de entrada\n",
    "TARGET_VIDEO_PATH = \"highway_600_tracking.mp4\"  # Ruta donde se guardará el video con seguimiento de objetos\n",
    "MODEL_NAME = \"yolov8x.pt\"  # Nombre del modelo preentrenado de YOLO a utilizar\n",
    "\n",
    "# Inicializar el modelo de detección y el rastreador de objetos\n",
    "model = YOLO(MODEL_NAME)  # Cargar el modelo de YOLO\n",
    "tracker = sv.ByteTrack()  # Inicializar ByteTrack para el seguimiento de objetos\n",
    "\n",
    "# Inicializar los anotadores para las cajas delimitadoras y las etiquetas\n",
    "bounding_box_annotator = sv.BoundingBoxAnnotator()  # Para dibujar cajas delimitadoras\n",
    "label_annotator = sv.LabelAnnotator()  # Para dibujar etiquetas (IDs de seguimiento)\n",
    "\n",
    "# Definir la función de callback que procesa cada frame\n",
    "def callback(frame: np.ndarray, index: int) -> np.ndarray:\n",
    "    results = model(frame)[0]  # Detectar objetos en el frame actual con YOLO\n",
    "    detections = sv.Detections.from_ultralytics(results)  # Convertir resultados a formato de supervision\n",
    "    detections = tracker.update_with_detections(detections)  # Actualizar el estado del rastreador con las detecciones\n",
    "\n",
    "    labels = [f\"#{tracker_id}\" for tracker_id in detections.tracker_id]  # Crear etiquetas con los IDs de seguimiento\n",
    "\n",
    "    # Anotar el frame con bounding boxes y etiquetas\n",
    "    annotated_frame = bounding_box_annotator.annotate(\n",
    "        scene=frame.copy(), detections=detections)\n",
    "    annotated_frame = label_annotator.annotate(\n",
    "        scene=annotated_frame, detections=detections, labels=labels)\n",
    "    return annotated_frame  # Devolver el frame anotado\n",
    "\n",
    "# Procesar el video: leer, aplicar callback a cada frame y guardar el resultado\n",
    "sv.process_video(\n",
    "    source_path=SOURCE_VIDEO_PATH,  # Ruta del video original\n",
    "    target_path=TARGET_VIDEO_PATH,  # Ruta del video resultante\n",
    "    callback=callback  # Función de callback para procesar cada frame\n",
    ")"
   ]
  }
 ],
 "metadata": {
  "language_info": {
   "name": "python"
  }
 },
 "nbformat": 4,
 "nbformat_minor": 2
}
